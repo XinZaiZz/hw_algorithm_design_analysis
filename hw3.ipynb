{
 "cells": [
  {
   "cell_type": "markdown",
   "metadata": {},
   "source": [
    "## algorithm design and anlysis-2025 spring  homework 3\n",
    "**Deadline**：2025.5.14\n",
    "\n",
    "**name**:\n",
    "\n",
    "\n",
    "note：\n",
    "---\n",
    "1. 带有\\*的题目，申请免上课的同学，必须完成，其他同学选作；\n",
    "2. 请独立完成，如求助了他人或者大模型，请著明，并且不可省略算法分析部分；\n",
    "4. 如若作答有雷同，全部取消成绩；\n",
    "3. 需要书面作答的题目，可以通过引用图片的形式添加，但是注意上传项目时包含所引用的图片的源文件；\n",
    "4. $log_n$ 默认表示$log_2{n}$;"
   ]
  },
  {
   "cell_type": "markdown",
   "metadata": {},
   "source": [
    "## 问题 1  \n",
    "\n",
    "请证明基于比较的排序算法计算复杂度下界为$\\Omega(nlogn)$"
   ]
  },
  {
   "cell_type": "markdown",
   "metadata": {},
   "source": [
    "you can refer a handwritten picture, pleas upload the picture in /fig/xxx.png\n",
    "answer："
   ]
  },
  {
   "cell_type": "markdown",
   "metadata": {},
   "source": [
    "![hw3q1-answer.png](./fig/hw3q1-answer.jpg)"
   ]
  },
  {
   "cell_type": "code",
   "execution_count": null,
   "metadata": {},
   "outputs": [],
   "source": []
  },
  {
   "cell_type": "markdown",
   "metadata": {},
   "source": [
    "## 问题 2 \n",
    "\n",
    "构建二叉搜索树\n",
    "\n",
    "> 1. 给定一个数组 [48, 33, 49, 47, 42, 46, 32], 构建一个二叉搜索树存储这些数据，请**绘制**所构建的**二叉搜索树**（标明结点的值）。\n",
    "> 2. 从第1问的二叉搜索树中删除33，请**绘制**删除33后的**二叉搜索树**（标明结点的值）\n",
    "\n",
    "- 推荐使用graphviz包绘制树的结构"
   ]
  },
  {
   "cell_type": "markdown",
   "metadata": {},
   "source": [
    "you can refer a handwritten picture, pleas upload the picture in /fig/xxx.png\n",
    "answer："
   ]
  },
  {
   "cell_type": "markdown",
   "metadata": {},
   "source": [
    "![hw3q2answer](./fig/hw3q2-answer1.jpg)"
   ]
  },
  {
   "cell_type": "markdown",
   "metadata": {},
   "source": [
    "## 问题 3 \n",
    "\n",
    "> 下面是九门课程的开始和结束时间:\n",
    ">\n",
    "> [(9:00,12:30), (11:00,14:00), (13:00, 14:30), (9:00,10:30),(13:00, 14:30),(14:00,16:30), (15:00,16:30), (15:00,16:30), (9:00,10:30)]\n",
    ">\n",
    "> 请使用贪婪算法为这九门课分配教室，要求在同一天内安排这些课，并且每个教室同一时间只能安排一门课。\n",
    "\n",
    "**请问最少需要几间教室，罗列出每个教室安排的课程**"
   ]
  },
  {
   "cell_type": "markdown",
   "metadata": {},
   "source": [
    "idea：  \n",
    "将所有课程按开始时间排序\n",
    "\n",
    "使用最小堆（优先队列）存储每个教室的当前课程的结束时间\n",
    "\n",
    "遍历课程列表：\n",
    "\n",
    "如果当前课程的开始时间 ≥ 堆顶最小结束时间，表示该教室可以复用（弹出旧课程结束时间，压入新课程结束时间）\n",
    "\n",
    "否则，需要新增一个教室\n",
    "\n",
    "教室数 = 堆的最大大小\n",
    "\n",
    "同时记录每个教室安排的课程"
   ]
  },
  {
   "cell_type": "code",
   "execution_count": 5,
   "metadata": {},
   "outputs": [
    {
     "name": "stdout",
     "output_type": "stream",
     "text": [
      "最少需要教室数：3\n",
      "教室 1 安排课程：\n",
      "  09:00 - 10:30\n",
      "  11:00 - 14:00\n",
      "  14:00 - 16:30\n",
      "教室 2 安排课程：\n",
      "  09:00 - 10:30\n",
      "  13:00 - 14:30\n",
      "  15:00 - 16:30\n",
      "教室 3 安排课程：\n",
      "  09:00 - 12:30\n",
      "  13:00 - 14:30\n",
      "  15:00 - 16:30\n"
     ]
    }
   ],
   "source": [
    "# code\n",
    "import heapq\n",
    "from collections import defaultdict\n",
    "\n",
    "def time_to_minutes(t):\n",
    "    h, m = map(int, t.split(\":\"))\n",
    "    return h * 60 + m\n",
    "\n",
    "def assign_classrooms(courses):\n",
    "    # 将时间转换为分钟\n",
    "    courses = [(time_to_minutes(start), time_to_minutes(end)) for start, end in courses]\n",
    "    # 排序：按开始时间排序\n",
    "    courses.sort()\n",
    "\n",
    "    # 最小堆，记录每个教室当前课程的结束时间 (end_time, room_id)\n",
    "    heap = []\n",
    "    room_id_counter = 0\n",
    "    room_schedule = defaultdict(list)  # 记录每个教室安排的课程\n",
    "\n",
    "    for start, end in courses:\n",
    "        assigned = False\n",
    "        # 检查是否有教室可复用\n",
    "        if heap and heap[0][0] <= start:\n",
    "            end_time, room_id = heapq.heappop(heap)\n",
    "            room_schedule[room_id].append((start, end))\n",
    "            heapq.heappush(heap, (end, room_id))\n",
    "            assigned = True\n",
    "        if not assigned:\n",
    "            # 分配新教室\n",
    "            room_id = room_id_counter\n",
    "            room_id_counter += 1\n",
    "            room_schedule[room_id].append((start, end))\n",
    "            heapq.heappush(heap, (end, room_id))\n",
    "\n",
    "    # 输出结果\n",
    "    print(f\"最少需要教室数：{len(room_schedule)}\")\n",
    "    for room_id in sorted(room_schedule):\n",
    "        print(f\"教室 {room_id + 1} 安排课程：\")\n",
    "        for s, e in room_schedule[room_id]:\n",
    "            print(f\"  {s//60:02}:{s%60:02} - {e//60:02}:{e%60:02}\")\n",
    "\n",
    "################################输入课程时间格式\n",
    "courses = [\n",
    "    (\"9:00\", \"12:30\"),\n",
    "    (\"11:00\", \"14:00\"),\n",
    "    (\"13:00\", \"14:30\"),\n",
    "    (\"9:00\", \"10:30\"),\n",
    "    (\"13:00\", \"14:30\"),\n",
    "    (\"14:00\", \"16:30\"),\n",
    "    (\"15:00\", \"16:30\"),\n",
    "    (\"15:00\", \"16:30\"),\n",
    "    (\"9:00\", \"10:30\")\n",
    "]\n",
    "\n",
    "assign_classrooms(courses)"
   ]
  },
  {
   "cell_type": "markdown",
   "metadata": {},
   "source": [
    "## 问题 4 \n",
    "\n",
    "> 爬楼梯问题：假设爬楼梯时你每次只能爬一阶或者爬两阶，问爬上n阶的楼梯，你一共有多少种方法\n",
    "\n",
    "请设计算法完成该问题，分析算法设计思路，计算时间复杂度，并基于python编程实现"
   ]
  },
  {
   "cell_type": "markdown",
   "metadata": {},
   "source": [
    "idea：  \n",
    "- 爬到第i阶楼梯的方法总数是：$f(i) = f(i - 1) + f(i - 2)$\n",
    "- 使用一个数组 dp 来保存每一阶的爬法数量；\n",
    "- 初始赋值 dp[0]=1, dp[1]=1；\n",
    "- 从第 2 阶开始，依次使用状态转移公式：dp[i] = dp[i-1] + dp[i-2]；\n",
    "- 返回 dp[n] 即为爬到第 n 阶的方案数。\n",
    "- 时间复杂度$0(n)$"
   ]
  },
  {
   "cell_type": "code",
   "execution_count": null,
   "metadata": {},
   "outputs": [
    {
     "name": "stdout",
     "output_type": "stream",
     "text": [
      "1\n",
      "1\n",
      "2\n",
      "34\n"
     ]
    }
   ],
   "source": [
    "# add your code here\n",
    "# your algorithm time complexity is: \n",
    "\n",
    "def climb_stairs(n):\n",
    "    if n == 0 or n == 1:\n",
    "        return 1\n",
    "\n",
    "    dp = [0] * (n + 1)\n",
    "    dp[0], dp[1] = 1, 1\n",
    "\n",
    "    for i in range(2, n + 1):\n",
    "        dp[i] = dp[i - 1] + dp[i - 2]\n",
    "\n",
    "    return dp[n]\n",
    "\n",
    "\n",
    "print(climb_stairs(0))  # 输出 1\n",
    "print(climb_stairs(1))  # 输出 1\n",
    "print(climb_stairs(2))  # 输出 2\n",
    "print(climb_stairs(8))  # 输出 34"
   ]
  },
  {
   "cell_type": "markdown",
   "metadata": {},
   "source": [
    "## 问题 5 \n",
    "\n",
    "> 0-1背包问题：现在有4块大理石，每个大理石对应的重量和价值使用一个元组表示, 即（重量，价值），4块大理石的重量和价值为：[(5,10), (4,40), (6,30), (3, 50)], 假设你有一辆最大承重为9的小推车，请问使用这个小推车装大理石的最大价值为多少\n",
    "\n",
    "请设计一个算法解决该问题，分析算法设计思路，计算时间复杂度，并基于python编程实现"
   ]
  },
  {
   "cell_type": "markdown",
   "metadata": {},
   "source": [
    "idea：（大模型辅助）  \n",
    "定义二维 DP 表：dp[i][w] 表示前 i 个物品，在容量为 w 的背包下可获得的最大价值  \n",
    "状态转移公式： dp[i][w]=max(dp[i−1][w],dp[i−1][w−weight[i]]+value[i])  如果 w≥weight[i]  \n",
    "dp[i][w]=dp[i−1][w]  如果 w<weight[i]  \n",
    "初始化： dp[0][w] = 0，没有物品时，价值为0  \n",
    "由此：时间复杂度为$O(nW)$，n为物品数量，W为背包容量"
   ]
  },
  {
   "cell_type": "code",
   "execution_count": 8,
   "metadata": {},
   "outputs": [
    {
     "name": "stdout",
     "output_type": "stream",
     "text": [
      "90\n"
     ]
    }
   ],
   "source": [
    "# add your code here\n",
    "# your algorithm time complexity is:\n",
    "def knapsack_01(items, capacity):\n",
    "    n = len(items)\n",
    "    dp = [[0] * (capacity + 1) for _ in range(n + 1)]\n",
    "\n",
    "    for i in range(1, n + 1):\n",
    "        wt, val = items[i - 1]\n",
    "        for w in range(capacity + 1):\n",
    "            if w >= wt:\n",
    "                dp[i][w] = max(dp[i - 1][w], dp[i - 1][w - wt] + val)\n",
    "            else:\n",
    "                dp[i][w] = dp[i - 1][w]\n",
    "\n",
    "    return dp[n][capacity]\n",
    "\n",
    "# test\n",
    "items = [(5, 10), (4, 40), (6, 30), (3, 50)]\n",
    "capacity = 9\n",
    "print(knapsack_01(items, capacity))  # 输出 90\n"
   ]
  },
  {
   "cell_type": "markdown",
   "metadata": {},
   "source": [
    "## 问题 6 \n",
    "给定 `n` 个非负整数表示每个宽度为 `1` 的柱子的高度图，计算按此排列的柱子，下雨之后能接多少雨水。\n",
    "\n",
    "\n",
    "\n",
    "<div style=\"text-align:center;width:800px;\"> <img alt=\"\" src=\"./fig/hw3q6.png\"> </div>\n",
    "\n",
    "请分析算法设计思路，计算时间复杂度，并基于python编程实现"
   ]
  },
  {
   "cell_type": "markdown",
   "metadata": {},
   "source": [
    "idea：  \n",
    "采用双指针方法：  \n",
    "雨水高度 = min(左侧最大高度，右侧最大高度) - 当前柱子高度  \n",
    "从左往右扫描时，维护两个指针left和right，表示当前考虑的左右位置  \n",
    "同时用left_max和right_max记录当前位置左侧和右侧的最高柱子  \n",
    "为此，该算法时间复杂度为$O(n)$"
   ]
  },
  {
   "cell_type": "code",
   "execution_count": null,
   "metadata": {},
   "outputs": [
    {
     "name": "stdout",
     "output_type": "stream",
     "text": [
      "6\n",
      "9\n"
     ]
    }
   ],
   "source": [
    "# add your code here\n",
    "# your algorithm time complexity is:\n",
    "def trap(height):\n",
    "    if not height or len(height) < 3:\n",
    "        return 0\n",
    "\n",
    "    # 默认left为第一个元素下标, right为最后一个元素下标\n",
    "    left, right = 0, len(height) - 1\n",
    "    left_max = right_max = 0\n",
    "    total_water = 0 # 记录总储水量\n",
    "\n",
    "    while left < right:\n",
    "        if height[left] < height[right]:\n",
    "            if height[left] >= left_max:\n",
    "                left_max = height[left]\n",
    "            else:\n",
    "                total_water += left_max - height[left]\n",
    "            left += 1\n",
    "        else:\n",
    "            if height[right] >= right_max:\n",
    "                right_max = height[right]\n",
    "            else:\n",
    "                total_water += right_max - height[right]\n",
    "            right -= 1\n",
    "\n",
    "    return total_water\n",
    "\n",
    "height = [0,1,0,2,1,0,1,3,2,1,2,1]\n",
    "print(trap(height))  # 输出 6\n",
    "\n",
    "height = [4, 2, 0, 3, 2, 5]\n",
    "print(trap(height))  # 输出 9\n"
   ]
  },
  {
   "cell_type": "markdown",
   "metadata": {},
   "source": [
    "## 问题 7 \n",
    "\n",
    "**股票投资组合优化**： 假设你是一位投资者，想要在不同的股票中分配你的资金，以最大化你的投资回报。每只股票都有不同的预期收益率和风险。你的目标是选择一些股票，使得总投资金额不超过你的预算，并且预期收益最大化。\n",
    "\n",
    "在这个情况下，你可以将每只股票视为一个“物品”，其重量为投资金额，价值为预期收益率。然后，你可以使用分级背包问题的方法来选择部分股票，以便在预算内获得最大的预期收益。\n",
    "\n",
    "以下是一个简化的例子：\n",
    "\n",
    "假设你有以下三只股票可供选择：\n",
    "\n",
    "1. 股票 A：投资金额 5000 美元，预期收益率 10%\n",
    "2. 股票 B：投资金额 3000 美元，预期收益率 8%\n",
    "3. 股票 C：投资金额 2000 美元，预期收益率 12%\n",
    "\n",
    "请设计算法找到最优投资方案，分析算法设计思路，计算时间复杂度，并基于python编程实现"
   ]
  },
  {
   "cell_type": "markdown",
   "metadata": {},
   "source": [
    "idea：  \n",
    "1. 按单位投资收益（收益/投资金额）降序排序\n",
    "2. 每次选择单位收益最高的股票，尽可能投资，如果余额不足，就部分投入\n",
    "3. 直到预算耗尽\n",
    "4. 时间复杂度包括（1）排序时间复杂度$O(nlogn)$，（2）遍历股票$O(n)$，总复杂度$O(nlogn)$"
   ]
  },
  {
   "cell_type": "code",
   "execution_count": null,
   "metadata": {},
   "outputs": [
    {
     "name": "stdout",
     "output_type": "stream",
     "text": [
      "最大预期收益： 680.0\n",
      "投资计划：\n",
      "- 投资金额：2000.0，股票收益率：12.0%，投资比例：100.0%\n",
      "- 投资金额：3000.0，股票收益率：8.0%，投资比例：100.0%\n",
      "- 投资金额：2000.0，股票收益率：10.0%，投资比例：40.0%\n"
     ]
    }
   ],
   "source": [
    "# add your code here\n",
    "# your algorithm time complexity is:\n",
    "\n",
    "def fractional_knapsack(stocks, budget):\n",
    "    # 计算单位收益（value per dollar）\n",
    "    stocks = sorted(stocks, key=lambda x: x[1]/x[0], reverse=True)\n",
    "\n",
    "    total_profit = 0.0\n",
    "    investment_plan = []\n",
    "\n",
    "    for amount, rate in stocks:\n",
    "        if budget <= 0:\n",
    "            break\n",
    "        if budget >= amount: # 如果预算够\n",
    "            # 全额投资\n",
    "            total_profit += amount * rate\n",
    "            budget -= amount\n",
    "            investment_plan.append((amount, rate, 1.0))  # 投资比例 1\n",
    "        else: \n",
    "            # 预算不够就部分投资\n",
    "            total_profit += budget * rate\n",
    "            investment_plan.append((amount, rate, budget / amount))\n",
    "            budget = 0\n",
    "\n",
    "    return total_profit, investment_plan\n",
    "\n",
    "\n",
    "# 调用\n",
    "# 股票格式：(投资金额, 收益率)\n",
    "stocks = [(5000, 0.10), (3000, 0.08), (2000, 0.12)]\n",
    "budget = 7000\n",
    "\n",
    "profit, plan = fractional_knapsack(stocks, budget)\n",
    "print(\"最大预期收益：\", round(profit, 2))\n",
    "print(\"投资计划：\")\n",
    "for amount, rate, ratio in plan:\n",
    "    print(f\"- 投资金额：{round(amount * ratio, 2)}，股票收益率：{rate*100}%，投资比例：{round(ratio*100, 1)}%\")\n"
   ]
  },
  {
   "cell_type": "markdown",
   "metadata": {},
   "source": [
    "## 问题 8\n",
    "\n",
    "给你二叉搜索树的根节点 root ，该树中的恰好两个节点的值被错误地交换。请在不改变其结构的情况下，恢复这棵树 。设计算法解决该问题，分析算法设计思路，计算时间复杂度，并基于python编程实现\n",
    "\n",
    "e.g.:\n",
    "---\n",
    "1.\n",
    "\n",
    "<div style=\"text-align:center;width:200px;\"> <img alt=\"\" src=\"./fig/hw3q9-1.jpg\"> </div>\n",
    "输入：root = [1,3,null,null,2]， 输出为：[3,1,null,null,2]， \n",
    "\n",
    "解释：3 不能是 1 的左孩子，因为 3 > 1 。交换 1 和 3 使二叉搜索树有效。\n",
    "\n",
    "2.\n",
    "\n",
    " <div style=\"text-align:center;width:200px;\"> <img alt=\"\" src=\"./fig/hw3q9-1.jpg\"> </div>\n",
    "输入： root=[3,1,4,null,null,2]， 输出为：[2,1,4,null,null,3]\n",
    "\n",
    "解释：2 不能在 3 的右子树中，因为 2 < 3 。交换 2 和 3 使二叉搜索树有效。"
   ]
  },
  {
   "cell_type": "markdown",
   "metadata": {},
   "source": [
    "idea：  \n",
    "1. 中序遍历BST，记录所有节点\n",
    "2. 在遍历中记录：\n",
    "    - 第一个逆序对中，较大节点记为first\n",
    "    - 第二个逆序对中，较小节点即为second\n",
    "3. 遍历结束后，交换first和second的值即可恢复BST\n",
    "4. 为此时间复杂度为$O(n)$\n"
   ]
  },
  {
   "cell_type": "code",
   "execution_count": 13,
   "metadata": {},
   "outputs": [
    {
     "name": "stdout",
     "output_type": "stream",
     "text": [
      "错误的BST结构：\n",
      "Level 0: 1 \n",
      "Level 1: 3 None \n",
      "Level 2: None 2 \n",
      "Level 3: None None \n",
      "中序遍历： [3, 2, 1]\n",
      "\n",
      "恢复后的BST结构：\n",
      "Level 0: 3 \n",
      "Level 1: 1 None \n",
      "Level 2: None 2 \n",
      "Level 3: None None \n",
      "中序遍历： [1, 2, 3]\n"
     ]
    }
   ],
   "source": [
    "# add your code here\n",
    "# your algorithm time complexity is:\n",
    "class TreeNode:\n",
    "    def __init__(self, val=0, left=None, right=None):\n",
    "        self.val = val\n",
    "        self.left = left\n",
    "        self.right = right\n",
    "\n",
    "class Solution:\n",
    "    def recoverTree(self, root: TreeNode) -> None:\n",
    "        self.first = self.second = self.prev = None\n",
    "\n",
    "        def inorder(node):\n",
    "            if not node:\n",
    "                return\n",
    "            inorder(node.left)\n",
    "\n",
    "            if self.prev and self.prev.val > node.val:\n",
    "                if not self.first:\n",
    "                    self.first = self.prev\n",
    "                self.second = node\n",
    "            self.prev = node\n",
    "\n",
    "            inorder(node.right)\n",
    "\n",
    "        inorder(root)\n",
    "\n",
    "        # 交换值\n",
    "        if self.first and self.second:\n",
    "            self.first.val, self.second.val = self.second.val, self.first.val\n",
    "\n",
    "def inorder_traversal(root):\n",
    "    result = []\n",
    "    def inorder(node):\n",
    "        if node:\n",
    "            inorder(node.left)\n",
    "            result.append(node.val)\n",
    "            inorder(node.right)\n",
    "    inorder(root)\n",
    "    return result\n",
    "\n",
    "from collections import deque\n",
    "\n",
    "def print_tree_by_level(root):\n",
    "    if not root:\n",
    "        print(\"空树\")\n",
    "        return\n",
    "    queue = deque([root])\n",
    "    level = 0\n",
    "    while queue:\n",
    "        level_size = len(queue)\n",
    "        print(f\"Level {level}: \", end='')\n",
    "        for _ in range(level_size):\n",
    "            node = queue.popleft()\n",
    "            if node:\n",
    "                print(node.val, end=' ')\n",
    "                queue.append(node.left)\n",
    "                queue.append(node.right)\n",
    "            else:\n",
    "                print(\"None\", end=' ')\n",
    "        print()\n",
    "        level += 1\n",
    "\n",
    "\n",
    "# 调用\n",
    "# 示例1：\n",
    "# 输入: [1,3,null,null,2]\n",
    "# 构造错误的BST\n",
    "root = TreeNode(1)\n",
    "root.left = TreeNode(3)\n",
    "root.left.right = TreeNode(2)\n",
    "\n",
    "print(\"错误的BST结构：\")\n",
    "print_tree_by_level(root)\n",
    "print(\"中序遍历：\", inorder_traversal(root))\n",
    "\n",
    "# 恢复BST\n",
    "sol = Solution()\n",
    "sol.recoverTree(root)\n",
    "\n",
    "print(\"\\n恢复后的BST结构：\")\n",
    "print_tree_by_level(root)\n",
    "print(\"中序遍历：\", inorder_traversal(root))\n",
    "\n",
    "\n"
   ]
  },
  {
   "cell_type": "markdown",
   "metadata": {},
   "source": [
    "## 问题 9  \n",
    "\n",
    "给你一个二叉树的根节点 root ，树中每个节点都存放有一个 0 到 9 之间的数字。每条从根节点到叶节点的路径都代表一个数字：\n",
    "\n",
    "> 例如，从根节点到叶节点的路径 1 -> 2 -> 3 表示数字 123 。\n",
    "\n",
    "设计一个算法计算从根节点到叶节点生成的所有数字之和 ，分析算法设计思路，计算时间复杂度，并基于python编程实现\n",
    "\n",
    "叶节点:是指没有子节点的节点。\n",
    "\n",
    "e.g.:\n",
    "---\n",
    "1.\n",
    "\n",
    " <div style=\"text-align:center;width:200px;\"> <img alt=\"figure\" src=\"./fig/hw3q10-1.jpg\"> </div>\n",
    "\n",
    " 输入：root = [1,2,3], 输出：25\n",
    "\n",
    "解释：从根到叶子节点路径 1->2 代表数字 12，1->3 代表数字 13，因此和为 12 + 13 = 25 。\n",
    "\n",
    "2.\n",
    "\n",
    " <div style=\"text-align:center;width:200px;\"> <img alt=\"figure\" src=\"./fig/hw3q10-2.jpg\"> </div>\n",
    "\n",
    " 输入：root = [4,9,0,5,1], 输出：1026\n",
    "\n",
    "解释：从根到叶子节点路径 4->9->5 代表数字 495，4->9->1 代表数字 491，4->0 代表数字 40。因此和为 495 + 491 + 40 = 1026 。"
   ]
  },
  {
   "cell_type": "markdown",
   "metadata": {},
   "source": [
    "idea：  \n",
    "- 从根节点出发，记录当前路径上生成的数字\n",
    "- 当到达一个叶子节点时，把当前形成的数字累加到总和中\n",
    "- 遍历整棵树，最终返回所有路径数字之和  \n",
    "每次递归时，将路径上的数字*10加上当前节点值，并继续向下传递  \n",
    "时间复杂度为$O(n)$，n为节点个数"
   ]
  },
  {
   "cell_type": "code",
   "execution_count": 14,
   "metadata": {},
   "outputs": [
    {
     "name": "stdout",
     "output_type": "stream",
     "text": [
      "25\n",
      "1026\n"
     ]
    }
   ],
   "source": [
    "# add your code here\n",
    "# your algorithm time complexity is:\n",
    "class TreeNode:\n",
    "    def __init__(self, val=0, left=None, right=None):\n",
    "        self.val = val\n",
    "        self.left = left\n",
    "        self.right = right\n",
    "\n",
    "class Solution:\n",
    "    def sumNumbers(self, root: TreeNode) -> int:\n",
    "        def dfs(node, current_number):\n",
    "            if not node:\n",
    "                return 0\n",
    "            current_number = current_number * 10 + node.val\n",
    "            # 如果是叶子节点，返回当前形成的数字\n",
    "            if not node.left and not node.right:\n",
    "                return current_number\n",
    "            # 否则递归左右子树并求和\n",
    "            return dfs(node.left, current_number) + dfs(node.right, current_number)\n",
    "        \n",
    "        return dfs(root, 0)\n",
    "\n",
    "\n",
    "# 调用\n",
    "# Tree: [1,2,3]\n",
    "root = TreeNode(1)\n",
    "root.left = TreeNode(2)\n",
    "root.right = TreeNode(3)\n",
    "\n",
    "sol = Solution()\n",
    "print(sol.sumNumbers(root))  # 输出: 25\n",
    "\n",
    "# 调用2\n",
    "# Tree: [4,9,0,5,1]\n",
    "root = TreeNode(4)\n",
    "root.left = TreeNode(9)\n",
    "root.right = TreeNode(0)\n",
    "root.left.left = TreeNode(5)\n",
    "root.left.right = TreeNode(1)\n",
    "\n",
    "sol = Solution()\n",
    "print(sol.sumNumbers(root))  # 输出: 1026\n"
   ]
  },
  {
   "cell_type": "markdown",
   "metadata": {},
   "source": [
    "## 问题 10  \n",
    "\n",
    "给你一个二叉树的根节点 root ， 检查它是否轴对称。\n",
    "\n",
    "1. 分析算法设计思路，计算时间复杂度，并基于python编程实现\n",
    "2. \\* 设计使用递归和迭代两种方法解决这个问题，计算时间复杂度，并基于python编程实现\n",
    "\n",
    "e.g.:\n",
    "---\n",
    "1.\n",
    "\n",
    " <div style=\"text-align:center;width:200px;\"> <img alt=\"figure\" src=\"./fig/hw3q11-1.png\"> </div>\n",
    "\n",
    " 输入：root = [1,2,2,3,4,4,3]， 输出：true\n",
    "\n",
    "解释：二叉树 [1,2,2,3,4,4,3] 对称。\n",
    "\n",
    "2.\n",
    "\n",
    " <div style=\"text-align:center;width:200px;\"> <img alt=\"figure\" src=\"./fig/hw3q11-2.png\"> </div>\n",
    "\n",
    " 输入：root = [1,2,2,null,3,null,3]， 输出：false"
   ]
  },
  {
   "cell_type": "markdown",
   "metadata": {},
   "source": [
    "idea：  \n",
    "若一棵树是轴对称的，则：其左子树和右子树也是镜像轴对称的  \n",
    "判断左右子树是否对称的条件：  \n",
    "- 两个节点都为空：对称  \n",
    "- 只有一个为空：不对称  \n",
    "- 两个都不为空，值相等，且：    \n",
    "    - 左节点的左子树和右节点的右子树对称  \n",
    "    - 左节点的右子树和右节点的左子树对称  \n",
    "因为所有节点都需要访问一次，所以该算法的时间复杂度为$O(n)$"
   ]
  },
  {
   "cell_type": "code",
   "execution_count": null,
   "metadata": {},
   "outputs": [
    {
     "name": "stdout",
     "output_type": "stream",
     "text": [
      "True\n",
      "False\n"
     ]
    }
   ],
   "source": [
    "# add your code here\n",
    "# your algorithm time complexity is:\n",
    "class TreeNode:\n",
    "    def __init__(self, val=0, left=None, right=None):\n",
    "        self.val = val\n",
    "        self.left = left\n",
    "        self.right = right\n",
    "\n",
    "class Solution:\n",
    "    def isSymmetric(self, root: TreeNode) -> bool:\n",
    "        def isMirror(t1, t2):\n",
    "            if not t1 and not t2:\n",
    "                return True\n",
    "            if not t1 or not t2:\n",
    "                return False\n",
    "            return (t1.val == t2.val and\n",
    "                    isMirror(t1.left, t2.right) and\n",
    "                    isMirror(t1.right, t2.left)) # 递归调用\n",
    "\n",
    "        return isMirror(root.left, root.right) if root else True\n",
    "\n",
    "\n",
    "# 调用\n",
    "# Tree: [1,2,2,3,4,4,3]\n",
    "root = TreeNode(1)\n",
    "root.left = TreeNode(2, TreeNode(3), TreeNode(4))\n",
    "root.right = TreeNode(2, TreeNode(4), TreeNode(3))\n",
    "\n",
    "sol = Solution()\n",
    "print(sol.isSymmetric(root))  # 输出: True\n",
    "\n",
    "# 调用2\n",
    "# Tree: [1,2,2,null,3,null,3]\n",
    "root = TreeNode(1)\n",
    "root.left = TreeNode(2, None, TreeNode(3))\n",
    "root.right = TreeNode(2, None, TreeNode(3))\n",
    "\n",
    "sol = Solution()\n",
    "print(sol.isSymmetric(root))  # 输出: False\n"
   ]
  },
  {
   "cell_type": "markdown",
   "metadata": {},
   "source": [
    "## 问题 11  \n",
    "\n",
    "给你一个由 '1'（陆地）和 '0'（水）组成的的二维网格，请你计算网格中岛屿的数量。岛屿总是被水包围，并且每座岛屿只能由水平方向和/或竖直方向上相邻的陆地连接形成。\n",
    "\n",
    "此外，你可以假设该网格的四条边均被水包围。\n",
    "\n",
    "分析算法设计思路，计算时间复杂度，并基于python编程实现\n",
    "\n",
    "e.g.:\n",
    "---\n",
    "1.\n",
    "输入：grid = [\n",
    "\n",
    "    [\"1\",\"1\",\"1\",\"1\",\"0\"],\n",
    "\n",
    "    [\"1\",\"1\",\"0\",\"1\",\"0\"], \n",
    "\n",
    "    [\"1\",\"1\",\"0\",\"0\",\"0\"], \n",
    "\n",
    "    [\"0\",\"0\",\"0\",\"0\",\"0\"]  \n",
    "\n",
    "]\n",
    "\n",
    "输出：1\n",
    "\n",
    "2.\n",
    "输入：grid = [\n",
    "\n",
    "    [\"1\",\"1\",\"0\",\"0\",\"0\"],\n",
    "\n",
    "    [\"1\",\"1\",\"0\",\"0\",\"0\"],\n",
    "\n",
    "    [\"0\",\"0\",\"1\",\"0\",\"0\"],\n",
    "\n",
    "    [\"0\",\"0\",\"0\",\"1\",\"1\"]\n",
    "\n",
    "]\n",
    "\n",
    "输出：3"
   ]
  },
  {
   "cell_type": "markdown",
   "metadata": {},
   "source": [
    "idea:  \n",
    "使用深度优先搜索方法来遍历网格中的每个位置：  \n",
    "- 遍历二维网格grid\n",
    "- 每当遇到1：\n",
    "    - 说明找到了一个新岛屿，岛屿数量加1\n",
    "    - 继续DFS，将与该1相连的所有1标记为0\n",
    "遍历所有格子，计数器中记录的就是岛屿数量  \n",
    "因为采用深度优先搜索算法，所以时间复杂度为$O(m \\times n)$"
   ]
  },
  {
   "cell_type": "code",
   "execution_count": 17,
   "metadata": {},
   "outputs": [
    {
     "name": "stdout",
     "output_type": "stream",
     "text": [
      "1\n",
      "3\n"
     ]
    }
   ],
   "source": [
    "# add your code here\n",
    "# your algorithm time complexity is:\n",
    "from typing import List\n",
    "\n",
    "class Solution:\n",
    "    def numIslands(self, grid: List[List[str]]) -> int:\n",
    "        if not grid:\n",
    "            return 0\n",
    "\n",
    "        rows, cols = len(grid), len(grid[0])\n",
    "        count = 0\n",
    "\n",
    "        def dfs(r, c):\n",
    "            # 边界 & 已访问检查\n",
    "            if r < 0 or r >= rows or c < 0 or c >= cols or grid[r][c] == '0':\n",
    "                return\n",
    "            # 淹没当前陆地\n",
    "            grid[r][c] = '0'\n",
    "            # 向四个方向递归\n",
    "            dfs(r + 1, c)\n",
    "            dfs(r - 1, c)\n",
    "            dfs(r, c + 1)\n",
    "            dfs(r, c - 1)\n",
    "\n",
    "        for i in range(rows):\n",
    "            for j in range(cols):\n",
    "                if grid[i][j] == '1':\n",
    "                    count += 1\n",
    "                    dfs(i, j)  # 淹没该岛屿\n",
    "\n",
    "        return count\n",
    "\n",
    "\n",
    "# 调用\n",
    "grid1 = [\n",
    "    [\"1\",\"1\",\"1\",\"1\",\"0\"],\n",
    "    [\"1\",\"1\",\"0\",\"1\",\"0\"],\n",
    "    [\"1\",\"1\",\"0\",\"0\",\"0\"],\n",
    "    [\"0\",\"0\",\"0\",\"0\",\"0\"]\n",
    "]\n",
    "print(Solution().numIslands(grid1))  # 输出：1\n",
    "\n",
    "# 调用2\n",
    "grid2 = [\n",
    "    [\"1\",\"1\",\"0\",\"0\",\"0\"],\n",
    "    [\"1\",\"1\",\"0\",\"0\",\"0\"],\n",
    "    [\"0\",\"0\",\"1\",\"0\",\"0\"],\n",
    "    [\"0\",\"0\",\"0\",\"1\",\"1\"]\n",
    "]\n",
    "print(Solution().numIslands(grid2))  # 输出：3\n"
   ]
  }
 ],
 "metadata": {
  "kernelspec": {
   "display_name": "Python 3",
   "language": "python",
   "name": "python3"
  },
  "language_info": {
   "codemirror_mode": {
    "name": "ipython",
    "version": 3
   },
   "file_extension": ".py",
   "mimetype": "text/x-python",
   "name": "python",
   "nbconvert_exporter": "python",
   "pygments_lexer": "ipython3",
   "version": "3.11.1"
  }
 },
 "nbformat": 4,
 "nbformat_minor": 2
}
