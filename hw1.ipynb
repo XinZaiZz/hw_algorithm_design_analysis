{
 "cells": [
  {
   "cell_type": "markdown",
   "metadata": {},
   "source": [
    "## algorithm design and anlysis-2025 spring  homework 1 \n",
    "**Deadline**：2025.5.14\n",
    "\n",
    "**name**:\n",
    "\n",
    "\n",
    "note：\n",
    "---\n",
    "1. 带有\\*的题目，申请免上课的同学，必须完成，其他同学选作；\n",
    "2. 请独立完成，如求助了他人或者大模型，请著明，并且不可省略算法分析部分；\n",
    "4. 如若作答有雷同，全部取消成绩；\n",
    "3. 需要书面作答的题目，可以通过引用图片的形式添加，但是注意上传项目时包含所引用的图片的源文件；\n",
    "4. $log_n$ 默认表示$log_2{n}$;"
   ]
  },
  {
   "cell_type": "markdown",
   "metadata": {},
   "source": [
    "## 问题 1\n",
    "\n",
    "对于下面的每一对表达式(A, B), A是否能表示为B的 $\\Theta, \\Omega ,O$形式. 请注意, 这些关系中的零个、一个或多个可能成立。列出所有正确的。经常发生一些学生会,把指示写错, 所以请把关系写完整, 例如: $A = O(B),  A =\\Theta(B)$, 或$A = \\Omega(B)$。\n",
    "\n",
    "1. $A=n^2-100n, B=n^2$\n",
    "2. $A=logn, B=log_{1.2}n$\n",
    "3. $A=3^{2n}, B=2^{4n}$\n",
    "4. $A=2^{logn}, B=n$\n",
    "5. $A=\\log{\\log}{n},B=10^{10^{100}}$"
   ]
  },
  {
   "cell_type": "markdown",
   "metadata": {},
   "source": [
    "can refer a handwritten picture, pleas upload the picture in /fig/xxx.png\n",
    "answer:\n"
   ]
  },
  {
   "cell_type": "markdown",
   "metadata": {},
   "source": [
    "## Answer\n",
    "1. $A = O(B), A = \\Theta(B), A = \\Omega(B)$\n",
    "2. $A = O(b), A = \\Theta(B), A = \\Omega(B)$\n",
    "3. $A = O(B)$\n",
    "4. $A = O(B), A = \\Theta(B), A = \\Omega(B)$\n",
    "5. $A = \\Theta(B)$"
   ]
  },
  {
   "cell_type": "markdown",
   "metadata": {},
   "source": [
    "## 问题 2：\n",
    "\n",
    "假设有函数 $f$ 和 $g$ 使得 $f(n)$ = $O(g(n))$ 对于下面的每一个陈述, 请判断对错, 如果正确请给出证明, 否则请给出一个反例。\n",
    "\n",
    "1. $\\log{f(n)}$ = $O(\\log(1+g(n)))$\n",
    "2. $3^{f(n)}=O(3^{g(n)})$\n",
    "3. $(f(n))^2=O((g(n))^2)$ "
   ]
  },
  {
   "cell_type": "markdown",
   "metadata": {},
   "source": [
    "you can refer a handwritten picture, pleas upload the picture in /fig/xxx.png\n",
    "answer:"
   ]
  },
  {
   "cell_type": "markdown",
   "metadata": {},
   "source": [
    "## Answer\n",
    "因为$f(n)$ = $O(g(n))$，所以存在常数$c > 0$和$n_0$，使得对所有$n > n_0$有：$f(n) ≤ c ⋅ g(n)$\n",
    "1. *正确*，因为$f(n)≤c⋅g(n)$，且$f(n)≥0$，对于足够大的$n$，有：<br>\n",
    "$ logf(n)≤log(c⋅g(n))=logc+log(g(n))$ <br>\n",
    "当$ g(n)→∞$时，$log(1+g(n))∼log(g(n))$ <br>\n",
    "所以$ log(f(n))≤logc+log(g(n))=O(log(1+g(n)))$\n",
    "2. *正确*，因为$f(n)≤c⋅g(n)$，那么$3^{f(n)} ≤ 3^{c ⋅ g(n)} = (3^{g(n)})^c$  \n",
    "因为$3^{g(n)} > 0$且存在常数$c_1$使得  \n",
    "$3^{f(n)} ≤ c_1 ⋅ 3^{g(n)}$，所以原式子成立\n",
    "3. *正确*，因为$f(n)≤c⋅g(n)$，两边平方得：  \n",
    "$f(n)^2 ≤ c^2 · g(n)^2$  \n",
    "即$f(n)^2 = O(g(n)^2)$"
   ]
  },
  {
   "cell_type": "markdown",
   "metadata": {},
   "source": [
    "## 问题 3\n",
    "\n",
    "根据下列递归公式, 计算下列 $T(n)$ 对应的的渐近上界。要求所求的边界尽可能的紧（tight）, 请写明步骤。\n",
    "\n",
    "1. $T(1)=1; T(n)=T(n/4)+1$ for $n>1$\n",
    "2. $T(1)=1;T(n)=3T(n/3)+n^2$ for $n>1$\n",
    "3. $T(1)=1;T(n)=T(2n/3)+1$ for $n>1$\n",
    "4. $T(1)=1;T(n)=5T(n/4)+n$ for $n>1$\n",
    "5. $T(n)=1 \\ for\\ n \\le 2 ; T(n)=T(\\sqrt{n})+1 \\ for \\ n>2$"
   ]
  },
  {
   "cell_type": "markdown",
   "metadata": {},
   "source": [
    "can refer a handwritten picture, pleas upload the picture in /fig/xxx.png\n",
    "answer:"
   ]
  },
  {
   "cell_type": "markdown",
   "metadata": {},
   "source": [
    "## Answer\n",
    "1. $T(n) = T(n/4) + 1 = T(n/4^2) + 2 = ··· = T(n/4^k) + k$  \n",
    "当$4^k = n$即$k = \\log_4n$时终止  \n",
    "所以$T(n) = T(1) + \\log_4n = 1 + \\log_4n = \\Theta(\\log(n))$\n",
    "2. $T(n) = 3T(n/3) + n^2 = 3(3T(n/3^2)) + 2n^2 = ··· = 3^kT(n / 3^k) + kn^2$  \n",
    "所以有$T(n) = \\Theta(n^2)$\n",
    "3. 每次规模乘以2/3，递归深度k满足：$(2/3)^k n = 1 ⇒ k = \\log_{3/2} n = \\Theta(\\log n)$，共$\\log n$层  \n",
    "所以$T(n) = \\Theta(\\log n)$\n",
    "4. $T(n) = 5T(n/4) + n = 5^2T(n / 4^2) + 5n + n = ··· = 5^kT(n / 4^k) + (5k + 1)n$  \n",
    "所以$T(n) = \\Theta(n)$\n",
    "5. 展开：$n^{1/2^k} = 2$, 有$\\log n/2^k = \\log 2$，有$2^k = \\log n$，有$k = \\log \\log n$  \n",
    "所以$T(n) = \\Theta(\\log \\log n)$"
   ]
  },
  {
   "cell_type": "markdown",
   "metadata": {},
   "source": [
    "## 问题 4：\n",
    "\n",
    "给定一个包含n个元素的数组 `profits` , 它的第 `i` 个元素 `profits[i]` 表示一支股票第 `i` 天的**收益**（正数表示涨, 负数表示跌）。你只能选择 **某一天** 买入这只股票, 并选择在 **未来的某一个不同的日子** 卖出该股票。\n",
    "\n",
    "1. 设计一个算法来计算你所能获取的最大利润和对应买入和卖出的日期。请分析算法方案, 计算其时间复杂度, 并且使用python编程实现该算法。\n",
    "\n",
    "2. \\* 设计一个时间复杂度为 $O(n)$的算法实现该算法\n",
    "\n",
    "e.g. :\n",
    "---\n",
    "profits=[3,2,1,-7,5,2,-1,3,-1], 第5天买入, 第8天卖出, 收益最大：9\n",
    "\n"
   ]
  },
  {
   "cell_type": "markdown",
   "metadata": {},
   "source": [
    "idea:"
   ]
  },
  {
   "cell_type": "code",
   "execution_count": 9,
   "metadata": {},
   "outputs": [
    {
     "name": "stdout",
     "output_type": "stream",
     "text": [
      "第4天买入, 第8天卖出, 收益最大: 9\n"
     ]
    }
   ],
   "source": [
    "# add your code\n",
    "def func_max_profit(profits):\n",
    "    n = len(profits)\n",
    "    if n < 2:\n",
    "        return 0, -1, -1  # 如果天数小于2，无法买卖\n",
    "\n",
    "    # 构造每天的实际价格，初始价格设为0\n",
    "    prices = [0] * (n + 1)\n",
    "    for i in range(1, n + 1):\n",
    "        prices[i] = prices[i - 1] + profits[i - 1]\n",
    "\n",
    "    # 在线性时间内找最大利润区间\n",
    "    min_price = prices[0]\n",
    "    min_day = 0\n",
    "    max_profit = -999 # 设置初始最大利润为-999\n",
    "    buy_day = sell_day = 0\n",
    "\n",
    "    for i in range(0, n):\n",
    "        current_profit = prices[i + 1] - min_price\n",
    "        if current_profit > max_profit:\n",
    "            max_profit = current_profit\n",
    "            buy_day = min_day\n",
    "            sell_day = i + 1\n",
    "        if prices[i + 1] < min_price:\n",
    "            min_price = prices[i + 1]\n",
    "            min_day = i + 1\n",
    "\n",
    "    return max_profit, buy_day, sell_day\n",
    "\n",
    "\n",
    "profits = [3,2,1,-7,5,2,-1,3,-1]\n",
    "max_profit, buy_day, sell_day = func_max_profit(profits)\n",
    "print(f\"第{buy_day}天买入, 第{sell_day}天卖出, 收益最大: {max_profit}\")\n"
   ]
  },
  {
   "cell_type": "markdown",
   "metadata": {},
   "source": [
    "## 输出结果\n",
    "![image.png](fig\\hw1q4output.png)"
   ]
  },
  {
   "cell_type": "markdown",
   "metadata": {},
   "source": [
    "## 时间复杂度分析：\n",
    "由代码可得：该算法时间复杂度为O(n)"
   ]
  },
  {
   "cell_type": "code",
   "execution_count": null,
   "metadata": {},
   "outputs": [],
   "source": [
    "# an algorithm with O(n)"
   ]
  },
  {
   "cell_type": "markdown",
   "metadata": {},
   "source": [
    "## 问题 5：\n",
    "\n",
    "观察下方的分治算法（divide-and-conquer algorithm）的伪代码, 回答下面问题\n",
    "\n",
    "```latex\n",
    "DoSomething(A,p,r)\n",
    "-----\n",
    "n := r-p+1\n",
    "if n=2 and A[p]>A[r] then\n",
    "    swap A[p] and A[r]\n",
    "else if n >= 3 then\n",
    "    m = ceil(2n/3)\n",
    "    DoSomething(A,p,p+m-1)\n",
    "    DoSomething(A,r-m+1,r)\n",
    "    DoSomething(A,p,p+m-1)  \n",
    "    \n",
    "---\n",
    "first call: DoSomething(A,1,n)\n",
    "```\n",
    "\n",
    "note：$ceil(2n/3)=\\left\\lceil {2n/3} \\right\\rceil$；$:=$ 表示赋值, 等价于 $\\to$；A是一个包含n的整数元素的数组, \n",
    "\n",
    "1. 写出该算法时间复杂度的递归公式, 并求解其对应的渐进表示\n",
    "2. 描述一下该算法的功能, 并判断是否是最高效的解决方案\n",
    "3. 使用python编程实现上述算法或其对应的更高效版本的算法\n"
   ]
  },
  {
   "cell_type": "markdown",
   "metadata": {},
   "source": [
    "idea："
   ]
  },
  {
   "cell_type": "markdown",
   "metadata": {},
   "source": [
    "1. 设$T(n)$是大小为$n$的数组时间复杂度  \n",
    "$T(n) = 3T(\\left\\lceil {2n/3} \\right\\rceil) + O(1)$  \n",
    "即：$T(n) = 3T(2n/3) + O(1)$  \n",
    "综上： $T(n) = \\Theta(n^{\\log_{3/2} 3})$\n",
    "2. 其反复在数组的前2/3和后2/3之间来回排序处理，并且重复执行第一步，因此是一种低效的排序算法"
   ]
  },
  {
   "cell_type": "markdown",
   "metadata": {},
   "source": [
    "answer:"
   ]
  },
  {
   "cell_type": "code",
   "execution_count": null,
   "metadata": {},
   "outputs": [
    {
     "name": "stdout",
     "output_type": "stream",
     "text": [
      "排序结果: [1, 2, 3, 4, 5]\n"
     ]
    }
   ],
   "source": [
    "# add your code here\n",
    "# your algorithm time complexity is :\n",
    "\n",
    "# 代码实现\n",
    "import math\n",
    "\n",
    "def do_something(A, p, r):\n",
    "    n = r - p + 1\n",
    "    if n == 2 and A[p] > A[r]: # 交换\n",
    "        A[p] = A[p] + A[r]\n",
    "        A[r] = A[p] - A[r]\n",
    "        A[p] = A[p] - A[r]\n",
    "    elif n >= 3:\n",
    "        m = math.ceil(2 * n / 3)\n",
    "        do_something(A, p, p + m - 1)\n",
    "        do_something(A, r - m + 1, r)\n",
    "        do_something(A, p, p + m - 1)\n",
    "\n",
    "# 示例\n",
    "A = [4, 3, 2, 5, 1]\n",
    "do_something(A, 0, len(A) - 1)\n",
    "print(\"排序结果:\", A)"
   ]
  },
  {
   "cell_type": "markdown",
   "metadata": {},
   "source": [
    "## 问题 6：\n",
    "\n",
    "给定一个大小为 `n` 的数组 `nums` , 返回其中的多数元素。多数元素是指在数组中出现次数 **大于** `⌊ n/2 ⌋` 的元素。\n",
    "\n",
    "你可以假设数组是非空的, 并且给定的数组总是存在多数元素。\n",
    "\n",
    "1. 设计一个算法找到给定数组的多数元素, 分析算法设计思路, 计算算法时间复杂度, 使用python编程实现\n",
    "2. \\* 设计时间复杂度为 O(n)、空间复杂度为 O(1) 的算法解决此问题, 分析算法设计思路, 使用python编程实现\n",
    "\n",
    "e.g.:\n",
    "---\n",
    "1. nums=[3,2,3], 返回3\n",
    "2. nums=[2,2,1,1,1,2,2], 返回2\n"
   ]
  },
  {
   "cell_type": "markdown",
   "metadata": {},
   "source": [
    "idea："
   ]
  },
  {
   "cell_type": "code",
   "execution_count": null,
   "metadata": {},
   "outputs": [
    {
     "name": "stdout",
     "output_type": "stream",
     "text": [
      "1\n",
      "[1, 1, 1, 2, 2, 2, 2]\n",
      "数组[2, 2, 1, 1, 1, 2, 2]中，多数元素为2，出现了4次\n"
     ]
    }
   ],
   "source": [
    "# add your code here\n",
    "# your algorithm time complexity is :\n",
    "\n",
    "def find_most_element(nums):\n",
    "    most_element = nums[0] # 默认将数组中第一个值设为多数元素\n",
    "    element_times = 0 #记录最多的数的个数\n",
    "    end_element_index = 0 #记录上一个数结束的位置，默认为0\n",
    "\n",
    "    # 首先排序\n",
    "    for i in range(len(nums)):\n",
    "        for j in range(i+1, len(nums)):\n",
    "            if nums[i] > nums[j]:\n",
    "                nums[i], nums[j] = nums[j], nums[i]\n",
    "    \n",
    "    for i in range(len(nums) - 1):\n",
    "        if nums[i] != nums[i + 1] & (i - end_element_index) > element_times:\n",
    "            element_times = i - end_element_index + 1\n",
    "            end_element_index = i\n",
    "            most_element = nums[i]\n",
    "    \n",
    "    if (len(nums) > 1) & (nums[len(nums) - 1] == nums[len(nums) - 2]) & (((len(nums) - 1) - end_element_index) > element_times): # 单独对最后一个元素作处理\n",
    "        most_element = nums[(len(nums) - 1)]\n",
    "        element_times = (len(nums) - 1) - end_element_index\n",
    "\n",
    "    print(nums)\n",
    "    return most_element, element_times\n",
    "\n",
    "nums = [2, 2, 1, 1, 1, 2, 2]\n",
    "print(f\"数组{nums}中，多数元素为%d，出现了%d次\" % find_most_element(nums))"
   ]
  },
  {
   "cell_type": "markdown",
   "metadata": {},
   "source": [
    "## 分析\n",
    "算法思路：\n",
    "1. 将所有元素从小到大排序\n",
    "2. 将排序后的数组遍历，找到当前与后一个元素不同的元素，记录下标，与前一次得到的下标相减，得到当前元素重复的次数，并与之前获得的最高次数比较并更新\n",
    "3. 需要对最后一个元素进行单独处理\n",
    "4. 由分析可得，该算法时间复杂度为$O(n^2)$"
   ]
  },
  {
   "cell_type": "markdown",
   "metadata": {},
   "source": [
    "idea for 2\\*："
   ]
  },
  {
   "cell_type": "code",
   "execution_count": null,
   "metadata": {},
   "outputs": [],
   "source": [
    "# algorithm time complexity：O(n), space complexity:O(1)\n",
    "# add your code here"
   ]
  },
  {
   "cell_type": "markdown",
   "metadata": {},
   "source": [
    "## 问题 7：\n",
    "\n",
    "给定一个包含不同整数元素的数组 $ A[1..n]$ ,并且满足条件：$A[1]>A[2]$ 并且 $A[n-1]<A[n]$; 规定：如果一个元素比它两边的邻居元素都小, 即：$A[x]<A[x-1], A[x]<A[x+1]$ , 称这个元素A[x]为“局部最小”。通过遍历一次数组, 我们可以很容易在 $O(n)$的时间复杂度下找到一个局部最小值, \n",
    "\n",
    "\n",
    "1. 分析该问题, 设计一个算法在$O(logn)$的时间复杂度下找到一个局部最小(返回数值), 要求：分析算法设计思路, 并且使用python编程实现\n",
    "2. \\* 设计算法找出所有局部最小值, 分析算法设计思路, 并使用python编程实现\n",
    "\n",
    "e.g.:\n",
    "---\n",
    "A=[9, 3, 7, 2, 1, 4, 5 ] 时,  局部最小元素为 3, 1\n"
   ]
  },
  {
   "cell_type": "markdown",
   "metadata": {},
   "source": [
    "idea："
   ]
  },
  {
   "cell_type": "code",
   "execution_count": 54,
   "metadata": {},
   "outputs": [
    {
     "name": "stdout",
     "output_type": "stream",
     "text": [
      "局部最小值 [3, 1]\n"
     ]
    }
   ],
   "source": [
    "# add your code here\n",
    "# your algorithm time complexity is :\n",
    "def all_local_minima(A):\n",
    "    n = len(A)\n",
    "    minima = []\n",
    "    for i in range(1, n - 1):\n",
    "        if A[i] < A[i - 1] and A[i] < A[i + 1]:\n",
    "            minima.append(A[i])  # 返回下标和值\n",
    "    return minima\n",
    "\n",
    "# 示例\n",
    "A = [9, 3, 7, 2, 1, 4, 5]\n",
    "results = all_local_minima(A)\n",
    "\n",
    "\n",
    "print(f\"局部最小值 {results}\")"
   ]
  },
  {
   "cell_type": "markdown",
   "metadata": {},
   "source": [
    "## 分析\n",
    "根据题设条件，不需要检查边界$A[0]$和$A[n - 1]$  \n",
    "仅一次线性遍历，总体时间复杂度$O(n)$, 空间复杂度$O(k)$，其中k是局部最小值个数"
   ]
  },
  {
   "cell_type": "markdown",
   "metadata": {},
   "source": [
    "idea:"
   ]
  },
  {
   "cell_type": "code",
   "execution_count": null,
   "metadata": {},
   "outputs": [],
   "source": [
    "# add your code here\n",
    "# your algorithm time complexity is :"
   ]
  },
  {
   "cell_type": "markdown",
   "metadata": {},
   "source": [
    "## 问题 8：\n",
    "\n",
    "给定包含n个不同数字的一组数, 寻找一种基于比较的算法在这组数中找到k个最小的数字, 并按顺序输出它们。\n",
    "\n",
    "1. 将n个数先进行排序, 然后按顺序输出最小的k个数。要求：选择合适的排序算法实现上述操作, 计算算法时间复杂度, 并使用python编程实现。\n",
    "2. 建立一个包含这n个数的堆（heap）, 并且调用 k 次Extract-min 按顺序输出最小的k个数。使用往空堆中不断插入元素的方法建立堆, 分析这种方法建堆的时间复杂度, 并使用python编程实现\n",
    "3. \\* 假设数组中包含的数据总数目超过了计算机的存储能力, 请设计一个算法, 找到这堆数据的前k小的数值, 计算时间复杂度, 并使用python实现该算法, 假设计算机一定能存储k个数据。\n",
    "\n",
    "e.g.：\n",
    "---\n",
    "数组arr=[5,4,3,2,6,1,88,33,22,107] 的前3个最小数据为：1, 2, 3\n"
   ]
  },
  {
   "cell_type": "markdown",
   "metadata": {},
   "source": [
    "idea："
   ]
  },
  {
   "cell_type": "code",
   "execution_count": null,
   "metadata": {},
   "outputs": [
    {
     "name": "stdout",
     "output_type": "stream",
     "text": [
      "数组arr = [5, 4, 3, 2, 6, 1, 88, 33, 22, 107]的前3个最小数据为：[1, 2, 3]\n"
     ]
    }
   ],
   "source": [
    "# add your code here\n",
    "# your algorithm time complexity is :\n",
    "\n",
    "def sort(nums):\n",
    "    for i in range(len(nums)):\n",
    "        for j in range(i+1, len(nums)):\n",
    "            if nums[i] > nums[j]:\n",
    "                nums[i], nums[j] = nums[j], nums[i] # 原地排序，会改变arr原本的值\n",
    "    return nums\n",
    "\n",
    "def min_k_arr(nums, k):\n",
    "    min_arr = []\n",
    "    for i in range(k):\n",
    "        min_arr.append(nums[i])\n",
    "    return min_arr\n",
    "\n",
    "arr=[5,4,3,2,6,1,88,33,22,107]\n",
    "k = 3\n",
    "sort_arr = sort(arr.copy())\n",
    "print(f\"数组arr = {arr}的前{k}个最小数据为：%s\" % min_k_arr(sort_arr, k))"
   ]
  },
  {
   "cell_type": "markdown",
   "metadata": {},
   "source": [
    "## 分析：\n",
    "由上述算法可得，该算法时间复杂度为$O(n^2)$"
   ]
  },
  {
   "cell_type": "markdown",
   "metadata": {},
   "source": [
    "idea for 2:"
   ]
  },
  {
   "cell_type": "code",
   "execution_count": 64,
   "metadata": {},
   "outputs": [
    {
     "name": "stdout",
     "output_type": "stream",
     "text": [
      "前4个最小的数是：[1, 2, 3, 4]\n"
     ]
    }
   ],
   "source": [
    "import heapq\n",
    "\n",
    "def min_k_by_heap(arr, k):\n",
    "    heap = []\n",
    "    for num in arr:\n",
    "        heapq.heappush(heap, num)  # 插入到最小堆中\n",
    "    return [heapq.heappop(heap) for _ in range(k)]\n",
    "\n",
    "# 示例\n",
    "arr = [9, 1, 3, 5, 7, 2, 8, 4, 6]\n",
    "k = 4\n",
    "print(f\"前{k}个最小的数是：{min_k_by_heap(arr, k)}\")"
   ]
  },
  {
   "cell_type": "markdown",
   "metadata": {},
   "source": [
    "## 分析：\n",
    "由上述算法可得，该算法时间复杂度为$O(k\\log n)$"
   ]
  },
  {
   "cell_type": "markdown",
   "metadata": {},
   "source": [
    "## 问题 9：\n",
    "\n",
    "**选择问题**:给定一个包含n个未排序值的数组A和一个$k≤n$的整数, 返回A中最小的第k项。\n",
    "\n",
    "在课堂上, 学了一个简单的O(n)随机算法来解决选择问题。事实上还有一种更复杂的最坏情况下时间复杂度为$O(n)$ 的选择算法。假设使用一个黑盒过程来实现这个O(n)选择算法: 给定一个数组A、 $p < r$ 和 k,  $BB(A, p, r, k)$ 可以在$O(r−p+ 1)$时间内找到并报告$A[p..r]$中第k小的项的下标。假设你可以在线性时间内处理Partition过程。\n",
    "\n",
    "1. 请分析如何修改 Quicksork 算法可以使其最差情况下的运行时间为 $O(nlogn)$, 使用伪代码实现, 并分析为何修改后的版本最差情况的运行时间为$O(nlogn)$\n",
    "\n",
    "note: 伪代码中, 你可以直接调用用` BB(A,p,r,k)`这个函数用于表示在最坏情况下时间复杂度为$O(n)$的选择算法；\n",
    "\n",
    "\n",
    "\n",
    "2. 找到一个更好的算法报告数组A中的前k小的项, 使用伪代码表示你的算法, 并分析你算法的时间复杂度。\n",
    "\n",
    "举例：A=[13, 3, 7, 9, 11, 1, 15, 2, 8, 10, 12, 16, 14, 5], 当k=4时, 应该报告1, 2, 3, 4\n",
    "\n",
    "note： 最直观的方法就是先将数组A排序, 然后从左向右报告其前k项, 这样操作的时间复杂度为$O(nlogn)$. 调用用` BB(A,p,r,k)`设计一个算法使其报告无序数组A的前k项, 满足时间复杂度好于$\\Theta(nlogn)$, 并且当$k=\\sqrt{n}$时, 你设计的算法时间复杂度应该为$\\Theta(n)$.\n",
    "\n",
    "\n",
    "\n",
    "3. 给定一个大小为n的数组, 找到一个 时间复杂度为$O(n log k)$ 的算法, 该算法将A中的元素重新排序, 使它们被划分为k个部分, 每个部分的元素小于或等于下一部分的元素。假设n和k都是2的幂。使用伪代码表示你的算法, 并分析时间复杂度。\n",
    "\n",
    "e.g.:\n",
    "---\n",
    "数组：[1,  3,  5,  7,  9,  11,  13,  15,  2,  4,  6,  8,  10,  12,  16,  14], k=4, \n",
    "\n",
    "对应重新排序的数组为：[1,  3,  2,  4]  [7,  6,  5,  8]  [12,  11,  10,  9]  [13,  14,  16,  15]\n",
    "\n",
    "\n"
   ]
  },
  {
   "cell_type": "markdown",
   "metadata": {},
   "source": [
    "idea for 1："
   ]
  },
  {
   "cell_type": "markdown",
   "metadata": {},
   "source": [
    "伪代码\n",
    "```latex\n",
    "ModifiedQuickSort(A, p, r):  \n",
    "    if p < r:  \n",
    "        n = r - p + 1  \n",
    "        mid_index = BB(A, p, r, ceil(n / 2))  # 线性时间选择第 n/2 小元素  \n",
    "        swap A[mid_index] with A[r]  \n",
    "        q = Partition(A, p, r)  # 标准分区  \n",
    "        ModifiedQuickSort(A, p, q - 1)  \n",
    "        ModifiedQuickSort(A, q + 1, r)  \n",
    "```"
   ]
  },
  {
   "cell_type": "markdown",
   "metadata": {},
   "source": [
    "## 分析\n",
    "\n",
    "1. 每层递归调用 BB(A,p,r,k) 是 O(n)\n",
    "\n",
    "2. 每次划分是平衡的，因此递归深度是 O(log n)\n",
    "\n",
    "3. 总体复杂度：T(n) = T(n/2) + T(n/2) + O(n) = O(n log n)"
   ]
  },
  {
   "cell_type": "markdown",
   "metadata": {},
   "source": [
    "idea for 2:"
   ]
  },
  {
   "cell_type": "markdown",
   "metadata": {},
   "source": [
    "伪代码\n",
    "```latex\n",
    "FindKSmallest(A, k):\n",
    "    n = len(A)\n",
    "    kth_index = BB(A, 0, n-1, k)\n",
    "    pivot = A[kth_index]\n",
    "\n",
    "    # 分离 <= pivot 的元素\n",
    "    B = []\n",
    "    for i in range(n):\n",
    "        if A[i] < pivot:\n",
    "            B.append(A[i])\n",
    "    while len(B) < k:\n",
    "        B.append(pivot)  # 补齐相等的值\n",
    "\n",
    "    Sort(B)  # 可使用O(k log k)排序\n",
    "    return B\n",
    "```"
   ]
  },
  {
   "cell_type": "markdown",
   "metadata": {},
   "source": [
    "## 分析\n",
    "思路：\n",
    "利用 BB(A, p, r, k) 找到第 k 小的元素，将数组分成：\n",
    "\n",
    "≤ 第 k 小的数：包含我们要找的前 k 项\n",
    "\n",
    "第 k 小的数：忽略\n",
    "\n",
    "对 ≤ 部分做一次选择性排序（例如快速选择或小堆排序）\n",
    "\n",
    "时间复杂度分析：\n",
    "BB：O(n)\n",
    "\n",
    "构建 B：O(n)\n",
    "\n",
    "排序 B：O(k log k)\n",
    "\n",
    "总体复杂度：O(n + k log k)，当 k = √n 时，整体复杂度为 O(n)"
   ]
  },
  {
   "cell_type": "markdown",
   "metadata": {},
   "source": [
    "idea for 3:"
   ]
  },
  {
   "cell_type": "markdown",
   "metadata": {},
   "source": [
    "伪代码\n",
    "```latex\n",
    "PartialSort(A, p, r, k):\n",
    "    if k == 1:\n",
    "        return\n",
    "    mid = k // 2\n",
    "    n = r - p + 1\n",
    "    pivot_rank = p + (n * mid // k)\n",
    "    pivot_index = BB(A, p, r, pivot_rank - p + 1)\n",
    "    swap A[pivot_index] with A[r]\n",
    "    q = Partition(A, p, r)\n",
    "    PartialSort(A, p, q - 1, mid)\n",
    "    PartialSort(A, q + 1, r, k - mid)\n",
    "```"
   ]
  },
  {
   "cell_type": "markdown",
   "metadata": {},
   "source": [
    "## 分析：\n",
    "思路：  \n",
    "使用选择算法递归地找到分界元素并划分，每次选出第 i × n/k 小的元素作为界限。然后将数组分成两半继续递归，直到划分成 k 段。  \n",
    "\n",
    "时间复杂度分析：  \n",
    "每次分割使用 BB：O(n)  \n",
    "总共划分 log k 次（每次将数组分为 k/2）  \n",
    "总体复杂度：O(n log k)"
   ]
  },
  {
   "cell_type": "markdown",
   "metadata": {},
   "source": [
    "## 问题 10：\n",
    "\n",
    "给定一个包含m个**字符串**的数组A, 其中不同的字符串可能有不同的字符数, 但数组中所有字符串的字符总数为n。设计一个算法在 $O(n)$ 时间内对字符串进行排序, 分析算法设计方案, 计算其时间复杂度, 并基于python编程实现该算法。请注意, 假设字符串只包含\"a\",\"b\",...,\"z\", \n",
    "\n",
    "\n",
    "\n",
    "举例1：数组A=[\"a\", \"da\", \"bde\", \"ab\", \"bc\", \"abdc\", \"cdba\"], 排序后的数组应该为：['a', 'ab', 'abdc', 'bc', 'bde', 'cdba', 'da']\n",
    "\n",
    "\n",
    "\n",
    "举例2：数组A=['ab', 'a', 'b', 'abc', 'ba', 'c'], 排序后的数组应该为：\n",
    "\n",
    "['a', 'ab', 'abc', 'b', 'ba', 'c']\n",
    "\n",
    "\n",
    "\n",
    "举例3：数组A=['aef', 'yzr', 'wr', 'ab', 'bhjc', 'lkabdc', 'pwcdba'],  排序后的数组应该为：['ab', 'aef', 'bhjc', 'lkabdc', 'pwcdba', 'wr', 'yzr']\n",
    "\n",
    "\n",
    "\n",
    "note：\n",
    "\n",
    "-  两个字符之间的比较可以考虑比较他们对应的ASCII码值；\n",
    "- python中可以使用`ord(\"a\")`返回字符 “a”对应的ASCII值"
   ]
  },
  {
   "cell_type": "markdown",
   "metadata": {},
   "source": [
    "idea:"
   ]
  },
  {
   "cell_type": "code",
   "execution_count": null,
   "metadata": {},
   "outputs": [
    {
     "name": "stdout",
     "output_type": "stream",
     "text": [
      "['ab', 'aef', 'bhjc', 'lkabdc', 'pwcdba', 'wr', 'yzr']\n"
     ]
    }
   ],
   "source": [
    "# add your code here\n",
    "# your algorithm time complexity is :\n",
    "def radix_sort_strings(arr):\n",
    "    if not arr:\n",
    "        return []\n",
    "\n",
    "    max_len = max(len(s) for s in arr)\n",
    "    for pos in reversed(range(max_len)):\n",
    "        # 计数排序每一位\n",
    "        count = [[] for _ in range(27)]  # 'a'-'z' + 空字符\n",
    "\n",
    "        for s in arr:\n",
    "            # 如果当前位超出字符串长度，视为空字符，排在前面\n",
    "            index = ord(s[pos]) - ord('a') + 1 if pos < len(s) else 0\n",
    "            count[index].append(s)\n",
    "\n",
    "        arr = [s for group in count for s in group]\n",
    "\n",
    "    return arr\n",
    "\n",
    "A = ['aef', 'yzr', 'wr', 'ab', 'bhjc', 'lkabdc', 'pwcdba']\n",
    "print(radix_sort_strings(A))  "
   ]
  },
  {
   "cell_type": "markdown",
   "metadata": {},
   "source": [
    "## 思路\n",
    "1. 基数排序从最末位字符开始，逐位对字符串进行稳定排序\n",
    "2. 每一位用计数排序实现\n",
    "3. 最长字符串长度记为$L$，执行$L$次计数排序\n",
    "4. 由于字符集大小为常数，所以整体时间复杂度为$O(n)$"
   ]
  }
 ],
 "metadata": {
  "kernelspec": {
   "display_name": "Python 3",
   "language": "python",
   "name": "python3"
  },
  "language_info": {
   "codemirror_mode": {
    "name": "ipython",
    "version": 3
   },
   "file_extension": ".py",
   "mimetype": "text/x-python",
   "name": "python",
   "nbconvert_exporter": "python",
   "pygments_lexer": "ipython3",
   "version": "3.11.1"
  }
 },
 "nbformat": 4,
 "nbformat_minor": 2
}
